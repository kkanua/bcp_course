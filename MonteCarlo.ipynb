{
 "cells": [
  {
   "cell_type": "markdown",
   "metadata": {},
   "source": [
    "# Метод Монте-Карло\n",
    "\n",
    "**Методы Монте Карло** - группа численных методов для изучения случайных процессов. Суть метода заключается в следующем: процесс описывается математической моделью с использованием генератора случайных величин, модель многократно обсчитывается, на основе полученных данных вычисляются вероятностные характеристики рассматриваемого процесса.\n",
    "\n",
    "## Интегрирование методом Монте-Карло\n",
    "Пусть задана функция *f(x)* и необходимо вычислить определенный интеграл на интервале *(a, b)*:<br>\n",
    "$$\n",
    "I = \\int \\limits_a ^b f(x) dx\n",
    "$$\n",
    "Возьмем случайную величину *u* распределенную с плотностью с плотностью *g(x)* на интервале *(a, b)*. Ее математическое ожидание выражается как: <br>\n",
    "$$\n",
    "\\mathbb{E}(x) = \\int \\limits_a ^b f(x)g(x)dx\n",
    "$$\n",
    "Так как функция от случайной величины является слйчайной величиной, можем рассмотреть случайную величину $ \\xi = \\frac{f(u)}{g(u)} $, где *u* случайная величина с плотностью распределения *g(u)* на интервале *(a, b)*. <br>\n",
    "Математическое ожидание $ \\xi $ равно: <br>\n",
    "$$\n",
    "\\mathbb{E}(\\xi) = \\int \\limits_a ^b \\frac{f(u)}{g(u)}g(u)du = I\n",
    "$$\n",
    "В итоге, если выбрать достаточно много N случайных величин, получим оценку интеграла:\n",
    "$$\n",
    "\\int \\limits_a ^b f(x) dx \\approx \\frac{1}{N} \\sum \\limits _{i = 1} ^{N} \\frac{f(\\xi _{i})}{g(\\xi _{i})}\n",
    "$$\n",
    "\n",
    "## Алгоритм\n",
    "Можно записать следующий алгоритм:\n",
    "1. положить *s = 0*\n",
    "2. сгенерировать *x* согласно распределению *g(x)*\n",
    "3. $ s += \\frac{f(x)}{g(x)} $\n",
    "4. цикл с шага 2\n",
    "5. результат $ R = \\frac{s}{N} $, где N число итераций"
   ]
  },
  {
   "cell_type": "markdown",
   "metadata": {},
   "source": [
    "# Пример\n",
    "В качества примера возьмем 3 функции которые будет необходимо проинтегрировать на интервале *(a, b)*:<br>\n",
    "1. $ \\sin(x)$, *a = 0,* $ b = \\pi $\n",
    "2. $ erf = \\frac{2}{\\pi} \\int \\limits_0 ^x e^{-t^2} dt $, *a = 0, b = 0.5*<br>"
   ]
  },
  {
   "cell_type": "markdown",
   "metadata": {},
   "source": [
    "Также выберем 3 плотности распределения определенные на соответствующих интервалах *(a, b)*: <br>\n",
    "1. $ \\frac{1}{b - a} $\n",
    "2. $ \\frac{sin(x)}{cos(a) - cos(b)}$"
   ]
  },
  {
   "cell_type": "code",
   "execution_count": 1,
   "metadata": {
    "scrolled": true
   },
   "outputs": [
    {
     "name": "stdout",
     "output_type": "stream",
     "text": [
      "2.0632540564282085 0.09089342145590996\n",
      "2.0 0.0\n",
      "0.862172635343526 0.021059301190609257\n",
      "0.6691517712625583 0.09074124565035868\n"
     ]
    }
   ],
   "source": [
    "from scipy.stats import rv_continuous\n",
    "import numpy as np\n",
    "import matplotlib.pyplot as plt\n",
    "\n",
    "def sin(x):\n",
    "    return np.sin(x)\n",
    "\n",
    "def erf(x):\n",
    "    return 2. / np.sqrt(np.pi) * np.exp(-(x ** 2)) \n",
    "        \n",
    "def integrateMonteCarlo(f, generator, a, b, N):\n",
    "    randomizer = generator(name='generator')\n",
    "    randomizer.setRange(a, b)\n",
    "    s = 0\n",
    "    std_arr = np.zeros(N)\n",
    "    for i in range(N):\n",
    "        y = randomizer.rvs()\n",
    "        s += f(y) / randomizer.my_pdf(y)\n",
    "        std_arr[i] = f(y) / randomizer.my_pdf(y)\n",
    "    std = np.sqrt((np.mean(std_arr ** 2) - np.mean(std_arr) ** 2) / N)\n",
    "    result = s / N\n",
    "    return result, std\n",
    "    \n",
    "    \n",
    "class uniform_gen(rv_continuous):\n",
    "    def _pdf(self, x):\n",
    "        return self.my_pdf(x)\n",
    "    \n",
    "    def my_pdf(self, x):\n",
    "        return 1 / (self.b - self.a)\n",
    "    \n",
    "    def setRange(self, a, b):\n",
    "        self.a, self.b = a, b\n",
    "        \n",
    "class sin_gen(rv_continuous):\n",
    "    def _pdf(self, x):\n",
    "        return self.my_pdf(x)\n",
    "    \n",
    "    def my_pdf(self, x):\n",
    "        return np.sin(x) / (np.cos(self.a) - np.cos(self.b))\n",
    "    \n",
    "    def setRange(self, a, b):\n",
    "        self.a, self.b = a, b\n",
    "    \n",
    "a, b = 0., np.pi\n",
    "N = 100\n",
    "    \n",
    "    \n",
    "val, std = integrateMonteCarlo(sin, uniform_gen, a, b, N)\n",
    "val1, std1 = integrateMonteCarlo(sin, sin_gen, a, b, N)\n",
    "print(val, std)\n",
    "print(val1, std1)\n",
    "\n",
    "a, b = 0., 1.\n",
    "\n",
    "val, std = integrateMonteCarlo(erf, uniform_gen, a, b, N)\n",
    "val1, std1 = integrateMonteCarlo(erf, sin_gen, a, b, N)\n",
    "print(val, std)\n",
    "print(val1, std1)\n",
    "\n",
    "\n",
    "#plt.hist(hist, bins=25, density=True)\n",
    "#plt.plot(np.arange(0., np.pi, 0.01), [uniform(i) for i in np.arange(0., np.pi, 0.01)])\n",
    "#plt.show()"
   ]
  },
  {
   "cell_type": "code",
   "execution_count": null,
   "metadata": {},
   "outputs": [],
   "source": []
  }
 ],
 "metadata": {
  "kernelspec": {
   "display_name": "Python 3",
   "language": "python",
   "name": "python3"
  },
  "language_info": {
   "codemirror_mode": {
    "name": "ipython",
    "version": 3
   },
   "file_extension": ".py",
   "mimetype": "text/x-python",
   "name": "python",
   "nbconvert_exporter": "python",
   "pygments_lexer": "ipython3",
   "version": "3.7.4"
  }
 },
 "nbformat": 4,
 "nbformat_minor": 2
}
